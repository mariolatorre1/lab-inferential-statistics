{
 "cells": [
  {
   "cell_type": "code",
   "execution_count": 1,
   "id": "c75b3829",
   "metadata": {},
   "outputs": [],
   "source": [
    "import math"
   ]
  },
  {
   "cell_type": "code",
   "execution_count": 4,
   "id": "63a5a48f",
   "metadata": {},
   "outputs": [],
   "source": [
    "# 1 - Define the null hypothesis\n",
    "\n",
    "# H0: μ = 120 mm Hg "
   ]
  },
  {
   "cell_type": "code",
   "execution_count": 5,
   "id": "809ac359",
   "metadata": {},
   "outputs": [],
   "source": [
    "# 2 - Define the alternative hypothesis \n",
    "\n",
    "# Ha: μ > 120 mm Hg "
   ]
  },
  {
   "cell_type": "code",
   "execution_count": 6,
   "id": "d1005f33",
   "metadata": {},
   "outputs": [],
   "source": [
    "# 3 - Determine if it is a one-tailed or a two-tailed test\n",
    "\n",
    "# One-tailed test since the alternative hypothesis is greater than the null"
   ]
  },
  {
   "cell_type": "code",
   "execution_count": 7,
   "id": "0448de46",
   "metadata": {},
   "outputs": [],
   "source": [
    "# 4 - Decide a test statistics\n",
    "\n",
    "# T-test"
   ]
  },
  {
   "cell_type": "code",
   "execution_count": 8,
   "id": "c18c0484",
   "metadata": {},
   "outputs": [],
   "source": [
    "# 5 - Set the level of significance\n",
    "\n",
    "# alpha = 0.05"
   ]
  },
  {
   "cell_type": "code",
   "execution_count": 10,
   "id": "3d602a3d",
   "metadata": {},
   "outputs": [
    {
     "data": {
      "text/plain": [
       "4.761904761904759"
      ]
     },
     "execution_count": 10,
     "metadata": {},
     "output_type": "execute_result"
    }
   ],
   "source": [
    "# 6 - Calculate the test statistic \n",
    "\n",
    "sample_mean = 130.1 \n",
    "pop_mean = 120\n",
    "pop_std = 21.21\n",
    "n = 100\n",
    "\n",
    "statistic = (sample_mean - pop_mean)/(pop_std/math.sqrt(n))\n",
    "statistic"
   ]
  },
  {
   "cell_type": "code",
   "execution_count": 11,
   "id": "4c56fb0f",
   "metadata": {},
   "outputs": [],
   "source": [
    "# 7 - Check the table to determine the critical value\n",
    "\n",
    "# Looking at the table, we see the critical value for one-tailed alpha 0.05 and degree of freedon (dof) of \n",
    "# 100 (there is no 99 in the table) is 1.660.\n",
    "# We can say with 95% of confidence that we have enough evidence to reject the null hypothesis, because \n",
    "# 4.76 is greater than 1.660, falling in the rejection region."
   ]
  }
 ],
 "metadata": {
  "kernelspec": {
   "display_name": "Python 3 (ipykernel)",
   "language": "python",
   "name": "python3"
  },
  "language_info": {
   "codemirror_mode": {
    "name": "ipython",
    "version": 3
   },
   "file_extension": ".py",
   "mimetype": "text/x-python",
   "name": "python",
   "nbconvert_exporter": "python",
   "pygments_lexer": "ipython3",
   "version": "3.9.7"
  }
 },
 "nbformat": 4,
 "nbformat_minor": 5
}
